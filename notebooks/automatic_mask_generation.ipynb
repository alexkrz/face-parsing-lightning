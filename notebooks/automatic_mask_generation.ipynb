{
 "cells": [
  {
   "cell_type": "markdown",
   "metadata": {
    "id": "3j57Jh9VIbqo"
   },
   "source": [
    "# Segment Anything Model: automatic mask generation using `transformers` 🤗 library\n",
    "\n",
    "This notebook demonstrates how to use the Segment Anything Model (SAM) to automatically generate segementation masks on any image. The model was released by Meta AI in the paper [Segment Anything Model](https://ai.facebook.com/research/publications/segment-anything/). The original source code can be found [here](https://github.com/facebookresearch/segment-anything)\n",
    "\n",
    "The `mask-generation` pipeline, freshly released for SAM, creates a gris of `1024` which are feed in a batch of `points_per_batch` to the model. The examples are inspired from the [original notebook of the authors](https://github.com/facebookresearch/segment-anything/blob/main/notebooks/predictor_example.ipynb).\n"
   ]
  },
  {
   "cell_type": "markdown",
   "metadata": {
    "id": "CsyajN_HDDqp"
   },
   "source": [
    "## Utility functions"
   ]
  },
  {
   "cell_type": "markdown",
   "metadata": {
    "id": "MkIpaOKVIJKm"
   },
   "source": [
    "Run the cells below to import the needed utility functions for displaying the masks!"
   ]
  },
  {
   "cell_type": "code",
   "execution_count": null,
   "metadata": {
    "id": "8AkjSITtDBuj"
   },
   "outputs": [],
   "source": [
    "import gc\n",
    "\n",
    "import matplotlib.pyplot as plt\n",
    "import numpy as np\n",
    "\n",
    "\n",
    "def show_mask(mask, ax, random_color=False):\n",
    "    if random_color:\n",
    "        color = np.concatenate([np.random.random(3), np.array([0.6])], axis=0)\n",
    "    else:\n",
    "        color = np.array([30 / 255, 144 / 255, 255 / 255, 0.6])\n",
    "    h, w = mask.shape[-2:]\n",
    "    mask_image = mask.reshape(h, w, 1) * color.reshape(1, 1, -1)\n",
    "    ax.imshow(mask_image)\n",
    "    del mask\n",
    "    gc.collect()\n",
    "\n",
    "\n",
    "def show_masks_on_image(raw_image, masks):\n",
    "    plt.imshow(np.array(raw_image))\n",
    "    ax = plt.gca()\n",
    "    ax.set_autoscale_on(False)\n",
    "    for mask in masks:\n",
    "        show_mask(mask, ax=ax, random_color=True)\n",
    "    plt.axis(\"off\")\n",
    "    plt.show()\n",
    "    del mask\n",
    "    gc.collect()"
   ]
  },
  {
   "cell_type": "markdown",
   "metadata": {
    "id": "ksFGk69rDF2q"
   },
   "source": [
    "## Model loading"
   ]
  },
  {
   "cell_type": "markdown",
   "metadata": {
    "id": "G61pAbslIPUS"
   },
   "source": [
    "Use the `from_pretrained` method on the `SamForMaskGeneration` class to load the model from the Hub! For the sake of this demonstration we will use the `vit-huge` checkpoint."
   ]
  },
  {
   "cell_type": "code",
   "execution_count": null,
   "metadata": {
    "colab": {
     "base_uri": "https://localhost:8080/",
     "height": 113,
     "referenced_widgets": [
      "cdc89279fd5a424f8c781930c1f78e28",
      "297b240e8ce04c99a52d448584c26592",
      "e598036666174b6ca08d77130d38d806",
      "6db8440dab6c4215803a40ab05cd7ae8",
      "8988afc126914389929892f915f4f7d0",
      "e2f4a5a737f64ba280bd2020555dabf2",
      "12fc029f266843d4bf290acf0a5babf1",
      "b676ed7e78bf462ea9b1e8ceeca64ccf",
      "01843b2fa150400f991f2930126dfc9d",
      "2484bd96169a4074bf6029024f107132",
      "7ae8d0431d8c40f0b611c46b8c6b2195",
      "78b62cd4b4974b059c5a8ec2e039ae46",
      "2218aad257e3429ebf759a3e2d062c35",
      "b396848076634d5b8ff8234c3cc31380",
      "b8a3bea67b724e32b03a376b39b1ba5a",
      "703dbabd46254d78b0f9c570de60b6fd",
      "26a75911d560425aaa474616502b8c4d",
      "291edf02bc8c4fa5b1076ee78766df54",
      "88f4f72bd8024154b78835a4ae84e084",
      "b7c8274f1f284187b306e8708239b48c",
      "1922144570c34ea5b9bdf997b3440230",
      "a5c06f70e17a4c14b8156414c9cd0481",
      "45eb7c898bfb471cac273ac3a51d4b81",
      "7d78154273b741b9968c42c6802ac7ca",
      "df5a54b5798941f29d530b4c21b0b80c",
      "3db61591d14e4ecebba90499f3ed7bf5",
      "7e39d81e36844243acd329b84a65e85b",
      "a9288e33cad84d79ad4c6cb34a013e40",
      "30db00ad2b764d93b5a9c906e1360d2f",
      "dced3536c676445b92b0761cf32bcdd3",
      "8370d691a74045debfe8619138f63444",
      "c9e41925a54d4c18ae738fccfb31cfd8",
      "03829dae4c9446098ece5af41b856b2d"
     ]
    },
    "id": "P44NSy-ADGph",
    "outputId": "885f8867-40cd-4109-853c-6063d8be2120"
   },
   "outputs": [],
   "source": [
    "from transformers import pipeline\n",
    "\n",
    "generator = pipeline(\"mask-generation\", model=\"facebook/sam-vit-huge\", device=0)"
   ]
  },
  {
   "cell_type": "markdown",
   "metadata": {
    "id": "rvCNeRU2DJZZ"
   },
   "source": [
    "### Load the example image"
   ]
  },
  {
   "cell_type": "code",
   "execution_count": null,
   "metadata": {
    "colab": {
     "base_uri": "https://localhost:8080/",
     "height": 453
    },
    "id": "eHd4QBdtDKtf",
    "outputId": "b6cf96cc-993c-4145-909a-7f3dc586199d"
   },
   "outputs": [],
   "source": [
    "import requests\n",
    "from PIL import Image\n",
    "\n",
    "img_url = \"https://huggingface.co/datasets/huggingface/documentation-images/resolve/main/transformers/tasks/car.jpg\"\n",
    "raw_image = Image.open(requests.get(img_url, stream=True).raw).convert(\"RGB\")\n",
    "\n",
    "plt.imshow(raw_image)"
   ]
  },
  {
   "cell_type": "markdown",
   "metadata": {
    "id": "zmybDSsSDNQD"
   },
   "source": [
    "# Generate the masks\n"
   ]
  },
  {
   "cell_type": "markdown",
   "metadata": {
    "id": "1ClxHKfQkAb7"
   },
   "source": [
    "Let's automatically generate the masks on the image! For that simply pass the raw image into the generator "
   ]
  },
  {
   "cell_type": "code",
   "execution_count": null,
   "metadata": {
    "id": "PBBZstdyDULA"
   },
   "outputs": [],
   "source": [
    "outputs = generator(raw_image, points_per_batch=64)"
   ]
  },
  {
   "cell_type": "markdown",
   "metadata": {
    "id": "3PtoFDDrkGYZ"
   },
   "source": [
    "The line above you take ~7 seconds on Google Colab 1xNVIDIA-T4, now let's see the resulting segmentation masks."
   ]
  },
  {
   "cell_type": "code",
   "execution_count": null,
   "metadata": {
    "colab": {
     "base_uri": "https://localhost:8080/",
     "height": 406
    },
    "id": "tRaGG_j84Qwt",
    "outputId": "9a0fc4d0-9770-4faa-a792-8e1ad1617892"
   },
   "outputs": [],
   "source": [
    "masks = outputs[\"masks\"]\n",
    "show_masks_on_image(raw_image, masks)"
   ]
  }
 ],
 "metadata": {
  "accelerator": "GPU",
  "colab": {
   "collapsed_sections": [
    "CsyajN_HDDqp"
   ],
   "provenance": []
  },
  "gpuClass": "standard",
  "kernelspec": {
   "display_name": "fsam",
   "language": "python",
   "name": "python3"
  },
  "language_info": {
   "codemirror_mode": {
    "name": "ipython",
    "version": 3
   },
   "file_extension": ".py",
   "mimetype": "text/x-python",
   "name": "python",
   "nbconvert_exporter": "python",
   "pygments_lexer": "ipython3",
   "version": "3.11.10"
  }
 },
 "nbformat": 4,
 "nbformat_minor": 0
}
