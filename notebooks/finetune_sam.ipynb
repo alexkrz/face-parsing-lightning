{
 "cells": [
  {
   "cell_type": "markdown",
   "metadata": {
    "id": "nAZ7M__ncb8Y"
   },
   "source": [
    "# Notebook: fine-tune SAM (segment anything) on a custom dataset\n",
    "\n",
    "In this notebook, we'll reproduce the [MedSAM](https://github.com/bowang-lab/MedSAM) project, which fine-tunes [SAM](https://huggingface.co/docs/transformers/main/en/model_doc/sam) on a dataset of medical images. For demo purposes, we'll use a toy dataset, but this can easily be scaled up.\n",
    "\n",
    "Resources used to create this notebook (thanks 🙏):\n",
    "* [Encode blog post](https://encord.com/blog/learn-how-to-fine-tune-the-segment-anything-model-sam/)\n",
    "* [MedSAM repository](https://github.com/bowang-lab/MedSAM)."
   ]
  },
  {
   "cell_type": "markdown",
   "metadata": {
    "id": "ROd15m4Ucdut"
   },
   "source": [
    "## Load dataset\n",
    "\n",
    "Here we load a small dataset of 130 (image, ground truth mask) pairs.\n",
    "\n",
    "To load your own images and masks, refer to the bottom of my [SAM inference notebook](https://github.com/NielsRogge/Transformers-Tutorials/blob/master/SAM/Run_inference_with_MedSAM_using_HuggingFace_Transformers.ipynb).\n",
    "\n",
    "See also [this guide](https://huggingface.co/docs/datasets/image_dataset). "
   ]
  },
  {
   "cell_type": "code",
   "execution_count": null,
   "metadata": {
    "colab": {
     "base_uri": "https://localhost:8080/",
     "height": 201,
     "referenced_widgets": [
      "7f936d7ed4764f2a8babd0195faf51bd",
      "71825134346848358419de7d91360aec",
      "60e75d14d9084e5dbc7a2ea764c7192a",
      "e57debb47c79478cb88445a4cd7ea642",
      "6834aff237bf44bcbae0cec801071c4b",
      "afb7071cc9a9453f8e0c8ba8ce1e5020",
      "1fd726fb4d0545b6aab1b74a8e8530bc",
      "c29b4f20720047d5906600db1999cd4d",
      "b6aafaf9246c4b7d830aadb4ad55b353",
      "502e84da3d7947a5a4fce1aead565580",
      "843426cb298e461788bc8f6f92782803",
      "95c0eca73bca4cf092ab15c6b0b7bc99",
      "bb63968afa8a4ea09d349331f8b04a53",
      "1add7ccb38544e23853a92976e5e374c",
      "311fbb2363f143bfb20e6435704bb71b",
      "c1e3363feb3d4a6493788426042e622d",
      "6ccdd1ee71e140fd96b708c680f13203",
      "fba83f810f6f414db55dd155cbe0f07f",
      "0bc936e15e2241258a629e6cf8ebef07",
      "a9aa8f4f01e940979b49f136613817ef",
      "efdfa567b370426290c0cfefaa0da491",
      "8c052b9a2b374aedabd7dfbc4641e810",
      "2292556476374e14aa5c5a292bf3f145",
      "f3bb16d383944e909929d3e027907272",
      "f3e9518e97ab4b0d90b23dae8c6019d9",
      "d02320da08ab4f43b57daef48a077cfb",
      "89130870b341408db8c01d7bf6c35da2",
      "5c90837256954d5db23e0fb58da41800",
      "996078efd76a4e8da0d35b19379f09d4",
      "019a2eae69cf49929b4b969598b52d91",
      "13b9484c82394c7cb075ad274e0c7c12",
      "ce76e63d4ce140138339a85615a78945",
      "f97f66f742fd4e278addb52e5fa250f5",
      "9328f2830e8149548f919daa6ed7b14b",
      "e534908fe9194cb094d69ca3e6b0a6c4",
      "a145319b7d084233843b5cf428cf7c4a",
      "0d1589f9236c4fd2979590a9bec6cf46",
      "2140a06496134344bbabdcb4f42fa746",
      "c423e2d8da9f45f3a824b226a48ae8be",
      "2b44ad7ab66e445d8f711544742a083c",
      "16edf3e703bf48aeb33befd6506db963",
      "b665d10293934f5faff1660735c8d4d4",
      "2d4884d10fb341e2b6d07a17302a4f45",
      "230509b6c7464119adc1874550c6eab0",
      "f62a4313660b4cc58b3c7f5fdb426e6e",
      "c3b2bc0621c441888576b15f93743843",
      "d5a3ef6cc21e478bb929801a94c5b97c",
      "d2f78c8bd7d04e128ac5a847f8df3b8c",
      "7c970cad7b7f41449ca9ff97aba9966f",
      "311445069ece476faabc63690dd7b57e",
      "c63c7ea1794d4ac79697df3d9440a132",
      "b1a99b08f8fa49139c7dd982b2cd2634",
      "f3edb096620d4ee78fef2c36957546da",
      "ac17ec561a5d47ad8eddb0625c759b2e",
      "bffa2e56a7b049e0b6932a250f81d74a"
     ]
    },
    "id": "kRf-WnHqcbcq",
    "outputId": "d93813e1-82b5-4c59-e710-37a560fbe9a7"
   },
   "outputs": [],
   "source": [
    "from datasets import load_dataset\n",
    "\n",
    "dataset = load_dataset(\"nielsr/breast-cancer\", split=\"train\")"
   ]
  },
  {
   "cell_type": "code",
   "execution_count": null,
   "metadata": {
    "colab": {
     "base_uri": "https://localhost:8080/"
    },
    "id": "kJ58CT8wdsPd",
    "outputId": "66092590-b513-4964-b7e3-7294b9227576"
   },
   "outputs": [],
   "source": [
    "dataset"
   ]
  },
  {
   "cell_type": "markdown",
   "metadata": {
    "id": "gtP_Xwol1MlA"
   },
   "source": [
    "We can visualize an example:"
   ]
  },
  {
   "cell_type": "code",
   "execution_count": null,
   "metadata": {
    "colab": {
     "base_uri": "https://localhost:8080/",
     "height": 273
    },
    "id": "uTchd20g1Nri",
    "outputId": "78b0e542-aaa1-4b55-dfb8-9edc990da184"
   },
   "outputs": [],
   "source": [
    "example = dataset[0]\n",
    "image = example[\"image\"]\n",
    "print(image)\n",
    "image"
   ]
  },
  {
   "cell_type": "code",
   "execution_count": null,
   "metadata": {
    "colab": {
     "base_uri": "https://localhost:8080/",
     "height": 446
    },
    "id": "DwWcPvK11nAP",
    "outputId": "e161ee71-22ff-4e13-81f2-8bf7f03a8fe8"
   },
   "outputs": [],
   "source": [
    "import matplotlib.pyplot as plt\n",
    "import numpy as np\n",
    "\n",
    "\n",
    "def show_mask(mask, ax, random_color=False):\n",
    "    if random_color:\n",
    "        color = np.concatenate([np.random.random(3), np.array([0.6])], axis=0)\n",
    "    else:\n",
    "        color = np.array([30 / 255, 144 / 255, 255 / 255, 0.6])\n",
    "    h, w = mask.shape[-2:]\n",
    "    mask_image = mask.reshape(h, w, 1) * color.reshape(1, 1, -1)\n",
    "    ax.imshow(mask_image)\n",
    "\n",
    "\n",
    "fig, axes = plt.subplots()\n",
    "\n",
    "axes.imshow(np.array(image))\n",
    "ground_truth_seg = np.array(example[\"label\"])\n",
    "show_mask(ground_truth_seg, axes)\n",
    "axes.title.set_text(f\"Ground truth mask\")\n",
    "axes.axis(\"off\")"
   ]
  },
  {
   "cell_type": "markdown",
   "metadata": {
    "id": "J2cOa80Qc3FQ"
   },
   "source": [
    "## Create PyTorch dataset\n",
    "\n",
    "Below we define a regular PyTorch dataset, which gives us examples of the data prepared in the format for the model. Each example consists of:\n",
    "\n",
    "* pixel values (which is the image prepared for the model)\n",
    "* a prompt in the form of a bounding box\n",
    "* a ground truth segmentation mask.\n",
    "\n",
    "The function below defines how to get a bounding box prompt based on the ground truth segmentation. This was taken from [here](https://github.com/bowang-lab/MedSAM/blob/66cf4799a9ab9a8e08428a5087e73fc21b2b61cd/train.py#L29).\n",
    "\n",
    "Note that SAM is always trained using certain \"prompts\", which you could be bounding boxes, points, text, or rudimentary masks. The model is then trained to output the appropriate mask given the image + prompt."
   ]
  },
  {
   "cell_type": "code",
   "execution_count": null,
   "metadata": {
    "id": "5LWBu8d1egig"
   },
   "outputs": [],
   "source": [
    "def get_bounding_box(ground_truth_map):\n",
    "    # get bounding box from mask\n",
    "    y_indices, x_indices = np.where(ground_truth_map > 0)\n",
    "    x_min, x_max = np.min(x_indices), np.max(x_indices)\n",
    "    y_min, y_max = np.min(y_indices), np.max(y_indices)\n",
    "    # add perturbation to bounding box coordinates\n",
    "    H, W = ground_truth_map.shape\n",
    "    x_min = max(0, x_min - np.random.randint(0, 20))\n",
    "    x_max = min(W, x_max + np.random.randint(0, 20))\n",
    "    y_min = max(0, y_min - np.random.randint(0, 20))\n",
    "    y_max = min(H, y_max + np.random.randint(0, 20))\n",
    "    bbox = [x_min, y_min, x_max, y_max]\n",
    "\n",
    "    return bbox"
   ]
  },
  {
   "cell_type": "code",
   "execution_count": null,
   "metadata": {
    "id": "zyC58ImHc2vO"
   },
   "outputs": [],
   "source": [
    "from torch.utils.data import Dataset\n",
    "\n",
    "\n",
    "class SAMDataset(Dataset):\n",
    "    def __init__(self, dataset, processor):\n",
    "        self.dataset = dataset\n",
    "        self.processor = processor\n",
    "\n",
    "    def __len__(self):\n",
    "        return len(self.dataset)\n",
    "\n",
    "    def __getitem__(self, idx):\n",
    "        item = self.dataset[idx]\n",
    "        image = item[\"image\"]\n",
    "        ground_truth_mask = np.array(item[\"label\"])\n",
    "\n",
    "        # get bounding box prompt\n",
    "        prompt = get_bounding_box(ground_truth_mask)\n",
    "\n",
    "        # prepare image and prompt for the model\n",
    "        inputs = self.processor(image, input_boxes=[[prompt]], return_tensors=\"pt\")\n",
    "\n",
    "        # remove batch dimension which the processor adds by default\n",
    "        inputs = {k: v.squeeze(0) for k, v in inputs.items()}\n",
    "\n",
    "        # add ground truth segmentation\n",
    "        inputs[\"ground_truth_mask\"] = ground_truth_mask\n",
    "\n",
    "        return inputs"
   ]
  },
  {
   "cell_type": "code",
   "execution_count": null,
   "metadata": {
    "colab": {
     "base_uri": "https://localhost:8080/",
     "height": 49,
     "referenced_widgets": [
      "2515dca9bfd14ec6b82b6de3b930b900",
      "87daefa6b419413c99fabf639491247d",
      "562711c51f6c4c53b00b890bb21cf594",
      "85282887a005420392a876be90742815",
      "bc2f5677dd8841b5b436a583a5ed208c",
      "2610aa17241242ebb1bbe6def5b3c701",
      "574813d9dd2e4b01a963057d68eb00d9",
      "aab25734e9ae4d02b89fdaed6b3b9502",
      "e9dcac6bec78472988587e42d6faa78e",
      "9531306b2e20480eb6f4402d178bef85",
      "d72bc84841fe4ce283d02ca4e765ccb6"
     ]
    },
    "id": "wE4iTOZdeLjq",
    "outputId": "73085f94-d82f-4efa-fbc5-6d8aabd4cc3e"
   },
   "outputs": [],
   "source": [
    "from transformers import SamProcessor\n",
    "\n",
    "processor = SamProcessor.from_pretrained(\"facebook/sam-vit-base\")"
   ]
  },
  {
   "cell_type": "code",
   "execution_count": null,
   "metadata": {
    "id": "XTynfgToe8jj"
   },
   "outputs": [],
   "source": [
    "train_dataset = SAMDataset(dataset=dataset, processor=processor)"
   ]
  },
  {
   "cell_type": "code",
   "execution_count": null,
   "metadata": {
    "colab": {
     "base_uri": "https://localhost:8080/"
    },
    "id": "dYZKU4iBfB-E",
    "outputId": "d8c5cd1a-a5b7-44f3-83d0-b675126fad6b"
   },
   "outputs": [],
   "source": [
    "example = train_dataset[0]\n",
    "for k, v in example.items():\n",
    "    print(k, v.shape)"
   ]
  },
  {
   "cell_type": "markdown",
   "metadata": {
    "id": "xyD4kOCFf76Q"
   },
   "source": [
    "## Create PyTorch DataLoader\n",
    "\n",
    "Next we define a PyTorch Dataloader, which allows us to get batches from the dataset.\n",
    "\n"
   ]
  },
  {
   "cell_type": "code",
   "execution_count": null,
   "metadata": {
    "id": "9CUnLOjSf9Kn"
   },
   "outputs": [],
   "source": [
    "from torch.utils.data import DataLoader\n",
    "\n",
    "train_dataloader = DataLoader(train_dataset, batch_size=2, shuffle=True)"
   ]
  },
  {
   "cell_type": "code",
   "execution_count": null,
   "metadata": {
    "colab": {
     "base_uri": "https://localhost:8080/"
    },
    "id": "5D2bmjAhgIus",
    "outputId": "a5895302-4dfd-472b-daa6-31eecba68bc9"
   },
   "outputs": [],
   "source": [
    "batch = next(iter(train_dataloader))\n",
    "for k, v in batch.items():\n",
    "    print(k, v.shape)"
   ]
  },
  {
   "cell_type": "code",
   "execution_count": null,
   "metadata": {
    "colab": {
     "base_uri": "https://localhost:8080/"
    },
    "id": "eJyuJc7fOldT",
    "outputId": "2ceaab35-9bb2-498d-e19c-97282eb80759"
   },
   "outputs": [],
   "source": [
    "batch[\"ground_truth_mask\"].shape"
   ]
  },
  {
   "cell_type": "markdown",
   "metadata": {
    "id": "AQx2Aq7LeAMU"
   },
   "source": [
    "## Load the model"
   ]
  },
  {
   "cell_type": "code",
   "execution_count": null,
   "metadata": {
    "colab": {
     "base_uri": "https://localhost:8080/",
     "height": 81,
     "referenced_widgets": [
      "f9f56c1792884976927e4f1ebee8484a",
      "e42c45e79fad4568ae8215daa048307a",
      "7d7ca01ed55e47a987dcb259acb0cdbe",
      "a523b7d48b624369b13b29a580356604",
      "69bb086b7b3d41b88f771efbe59651cc",
      "37a9195aa8094aa4834e19ffa74869e7",
      "5f16db36d3dc45ce9c128f510078b80f",
      "611753b604804a9fab09974265be956a",
      "bda115bb2bd14e75a527dce8e52ce33c",
      "4bffc2aff3034d2ca1c28fd854b28613",
      "90ddd1d38e21424dba82d11ef64eff00",
      "4e445c21c3e44dafae4e3694883718ab",
      "5e26a8bfc11e454db2462bbf594539ea",
      "c3f5b27fca3a42f3b9c3b85655779a7e",
      "5036ede1b6614c7e8173838868a4d62e",
      "225a34826b214e7c8aa63ebbeccce4ba",
      "a4e97f71760a47179827ca5c6d1a8ec7",
      "016c3011e2f747f8b784935a2465c1ac",
      "f031c87e5f72438986046940d1945bd7",
      "5e40e43aed3f411b9707e7097e0127eb",
      "f9b743c2c57e445493dcfc874d545ada",
      "79db940c255444fab53198a56b22fc73"
     ]
    },
    "id": "ZI2ioeS5eAxm",
    "outputId": "50d68082-7961-4164-e378-e331f9b62e43"
   },
   "outputs": [],
   "source": [
    "from transformers import SamModel\n",
    "\n",
    "model = SamModel.from_pretrained(\"facebook/sam-vit-base\")\n",
    "\n",
    "# make sure we only compute gradients for mask decoder\n",
    "for name, param in model.named_parameters():\n",
    "    if name.startswith(\"vision_encoder\") or name.startswith(\"prompt_encoder\"):\n",
    "        param.requires_grad_(False)"
   ]
  },
  {
   "cell_type": "markdown",
   "metadata": {
    "id": "CShhxC-heDpw"
   },
   "source": [
    "## Train the model"
   ]
  },
  {
   "cell_type": "code",
   "execution_count": null,
   "metadata": {
    "id": "vOTrMv1LeEK9"
   },
   "outputs": [],
   "source": [
    "import monai\n",
    "from torch.optim import Adam\n",
    "\n",
    "# Note: Hyperparameter tuning could improve performance here\n",
    "optimizer = Adam(model.mask_decoder.parameters(), lr=1e-5, weight_decay=0)\n",
    "\n",
    "seg_loss = monai.losses.DiceCELoss(sigmoid=True, squared_pred=True, reduction=\"mean\")"
   ]
  },
  {
   "cell_type": "code",
   "execution_count": null,
   "metadata": {
    "colab": {
     "base_uri": "https://localhost:8080/",
     "height": 1000
    },
    "id": "XC35CzLxfdQU",
    "outputId": "7e8f7eee-53b8-4b44-b20d-91a044a18ea1"
   },
   "outputs": [],
   "source": [
    "from statistics import mean\n",
    "\n",
    "import torch\n",
    "from torch.nn.functional import normalize, threshold\n",
    "from tqdm import tqdm\n",
    "\n",
    "num_epochs = 100\n",
    "\n",
    "device = \"cuda\" if torch.cuda.is_available() else \"cpu\"\n",
    "model.to(device)\n",
    "\n",
    "model.train()\n",
    "for epoch in range(num_epochs):\n",
    "    epoch_losses = []\n",
    "    for batch in tqdm(train_dataloader):\n",
    "        # forward pass\n",
    "        outputs = model(\n",
    "            pixel_values=batch[\"pixel_values\"].to(device),\n",
    "            input_boxes=batch[\"input_boxes\"].to(device),\n",
    "            multimask_output=False,\n",
    "        )\n",
    "\n",
    "        # compute loss\n",
    "        predicted_masks = outputs.pred_masks.squeeze(1)\n",
    "        ground_truth_masks = batch[\"ground_truth_mask\"].float().to(device)\n",
    "        loss = seg_loss(predicted_masks, ground_truth_masks.unsqueeze(1))\n",
    "\n",
    "        # backward pass (compute gradients of parameters w.r.t. loss)\n",
    "        optimizer.zero_grad()\n",
    "        loss.backward()\n",
    "\n",
    "        # optimize\n",
    "        optimizer.step()\n",
    "        epoch_losses.append(loss.item())\n",
    "\n",
    "    print(f\"EPOCH: {epoch}\")\n",
    "    print(f\"Mean loss: {mean(epoch_losses)}\")"
   ]
  },
  {
   "cell_type": "markdown",
   "metadata": {
    "id": "IYKvlFthRsyG"
   },
   "source": [
    "## Inference\n",
    "\n",
    "Important note here: as we used the Dice loss with `sigmoid=True`, we need to make sure to appropriately apply a sigmoid activation function to the predicted masks. Hence we won't use the processor's `post_process_masks` method here."
   ]
  },
  {
   "cell_type": "code",
   "execution_count": null,
   "metadata": {
    "colab": {
     "base_uri": "https://localhost:8080/",
     "height": 273
    },
    "id": "nyES0ru3aiVf",
    "outputId": "abaef0bc-bc8f-481a-f0aa-fc05e84e982f"
   },
   "outputs": [],
   "source": [
    "import numpy as np\n",
    "from PIL import Image\n",
    "\n",
    "# let's take a random training example\n",
    "idx = 10\n",
    "\n",
    "# load image\n",
    "image = dataset[idx][\"image\"]\n",
    "image"
   ]
  },
  {
   "cell_type": "code",
   "execution_count": null,
   "metadata": {
    "colab": {
     "base_uri": "https://localhost:8080/"
    },
    "id": "OzxIzE6janRx",
    "outputId": "ae601721-0a7f-4e4c-8fbd-02598839001c"
   },
   "outputs": [],
   "source": [
    "# get box prompt based on ground truth segmentation map\n",
    "ground_truth_mask = np.array(dataset[idx][\"label\"])\n",
    "prompt = get_bounding_box(ground_truth_mask)\n",
    "\n",
    "# prepare image + box prompt for the model\n",
    "inputs = processor(image, input_boxes=[[prompt]], return_tensors=\"pt\").to(device)\n",
    "for k, v in inputs.items():\n",
    "    print(k, v.shape)"
   ]
  },
  {
   "cell_type": "code",
   "execution_count": null,
   "metadata": {
    "id": "OvOVzNvea5oU"
   },
   "outputs": [],
   "source": [
    "model.eval()\n",
    "\n",
    "# forward pass\n",
    "with torch.no_grad():\n",
    "    outputs = model(**inputs, multimask_output=False)"
   ]
  },
  {
   "cell_type": "code",
   "execution_count": null,
   "metadata": {
    "id": "uvgwHg42bACQ"
   },
   "outputs": [],
   "source": [
    "# apply sigmoid\n",
    "medsam_seg_prob = torch.sigmoid(outputs.pred_masks.squeeze(1))\n",
    "# convert soft mask to hard mask\n",
    "medsam_seg_prob = medsam_seg_prob.cpu().numpy().squeeze()\n",
    "medsam_seg = (medsam_seg_prob > 0.5).astype(np.uint8)"
   ]
  },
  {
   "cell_type": "code",
   "execution_count": null,
   "metadata": {
    "colab": {
     "base_uri": "https://localhost:8080/",
     "height": 446
    },
    "id": "DCehzlJJbDGz",
    "outputId": "5e5bb576-96aa-4628-9453-f81c1d40c3d8"
   },
   "outputs": [],
   "source": [
    "def show_mask(mask, ax, random_color=False):\n",
    "    if random_color:\n",
    "        color = np.concatenate([np.random.random(3), np.array([0.6])], axis=0)\n",
    "    else:\n",
    "        color = np.array([30 / 255, 144 / 255, 255 / 255, 0.6])\n",
    "    h, w = mask.shape[-2:]\n",
    "    mask_image = mask.reshape(h, w, 1) * color.reshape(1, 1, -1)\n",
    "    ax.imshow(mask_image)\n",
    "\n",
    "\n",
    "fig, axes = plt.subplots()\n",
    "\n",
    "axes.imshow(np.array(image))\n",
    "show_mask(medsam_seg, axes)\n",
    "axes.title.set_text(f\"Predicted mask\")\n",
    "axes.axis(\"off\")"
   ]
  },
  {
   "cell_type": "markdown",
   "metadata": {
    "id": "WFbiFDAabLNg"
   },
   "source": [
    "Compare this to the ground truth segmentation:"
   ]
  },
  {
   "cell_type": "code",
   "execution_count": null,
   "metadata": {
    "colab": {
     "base_uri": "https://localhost:8080/",
     "height": 446
    },
    "id": "PEISRU0WbEvg",
    "outputId": "f187f424-cbd8-4533-8d56-9c6aa5e99198"
   },
   "outputs": [],
   "source": [
    "fig, axes = plt.subplots()\n",
    "\n",
    "axes.imshow(np.array(image))\n",
    "show_mask(ground_truth_mask, axes)\n",
    "axes.title.set_text(f\"Ground truth mask\")\n",
    "axes.axis(\"off\")"
   ]
  },
  {
   "cell_type": "code",
   "execution_count": null,
   "metadata": {
    "id": "2FEs58oPbNTv"
   },
   "outputs": [],
   "source": []
  }
 ],
 "metadata": {
  "accelerator": "GPU",
  "colab": {
   "authorship_tag": "ABX9TyOrmsHyIjsjAparHnskGGto",
   "gpuType": "T4",
   "include_colab_link": true,
   "machine_shape": "hm",
   "provenance": []
  },
  "gpuClass": "standard",
  "kernelspec": {
   "display_name": "fsam",
   "language": "python",
   "name": "python3"
  },
  "language_info": {
   "codemirror_mode": {
    "name": "ipython",
    "version": 3
   },
   "file_extension": ".py",
   "mimetype": "text/x-python",
   "name": "python",
   "nbconvert_exporter": "python",
   "pygments_lexer": "ipython3",
   "version": "3.11.10"
  }
 },
 "nbformat": 4,
 "nbformat_minor": 0
}
